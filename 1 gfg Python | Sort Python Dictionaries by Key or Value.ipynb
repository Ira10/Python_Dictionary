{
 "cells": [
  {
   "cell_type": "markdown",
   "metadata": {},
   "source": [
    "#### Need for Sorting Dictionary in Python\n",
    "We need sorting of data to reduce the complexity of the data and make queries faster and more efficient. Sorting is very important when we are dealing with a large amount of data. \n",
    "\n",
    "#### We can sort a dictionary by values using these methods:\n",
    "\n",
    "First, sort the keys alphabetically using key_value.iterkeys() function.\n",
    "\n",
    "Second, sort the keys alphabetically using the sorted (key_value) function & print the value corresponding to it.\n",
    "\n",
    "Third, sort the values alphabetically using key_value.iteritems(), key = lambda (k, v) : (v, k))"
   ]
  },
  {
   "cell_type": "markdown",
   "metadata": {},
   "source": [
    "##### Sort Python Dictionaries by Key or Value Examples\n",
    "Here are the major tasks that need to be performed to sort a dictionary by value and keys in Python.\n",
    "\n",
    "1. Create a dictionary and display its list-keys alphabetically.\n",
    "\n",
    "2. Display both the keys and values, sorted by key in alphabetical order.\n",
    "3. At last, display both the keys and values, sorted by value in alphabetical order.\n"
   ]
  },
  {
   "cell_type": "markdown",
   "metadata": {},
   "source": [
    "#### Example 1: Sorting Dictionary By Key\n",
    "In this example, we will sort the dictionary by keys and the result type will be a dictionary. "
   ]
  },
  {
   "cell_type": "code",
   "execution_count": 2,
   "metadata": {},
   "outputs": [
    {
     "name": "stdout",
     "output_type": "stream",
     "text": [
      "{'rajnish': 9, 'ravi': 10, 'sanjeev': 15, 'suraj': 32, 'yash': 2}\n"
     ]
    }
   ],
   "source": [
    "myDict = {'ravi': 10, 'rajnish': 9,\n",
    "        'sanjeev': 15, 'yash': 2, 'suraj': 32}\n",
    "\n",
    "myKeys = list(myDict.keys())\n",
    "myKeys.sort()\n",
    "sorted_dict = {i: myDict[i] for i in myKeys}\n",
    "\n",
    "print(sorted_dict)\n"
   ]
  },
  {
   "cell_type": "markdown",
   "metadata": {},
   "source": [
    "#### Example 2: Displaying the Keys in Sorted Order\n",
    "In this example, we are trying to sort the dictionary by keys and values in Python. Here, iterkeys() returns an iterator over the dictionary’s keys."
   ]
  },
  {
   "cell_type": "code",
   "execution_count": 3,
   "metadata": {},
   "outputs": [
    {
     "name": "stdout",
     "output_type": "stream",
     "text": [
      "Task 1:-\n",
      "\n",
      "key_value {2: 56, 1: 2, 5: 12, 4: 24, 6: 18, 3: 323}\n",
      "1 2 3 4 5 6 "
     ]
    }
   ],
   "source": [
    "# Function calling\n",
    "def dictionary():\n",
    "    # Declare hash function\n",
    "    key_value = {}\n",
    "\n",
    "# Initializing value\n",
    "    key_value[2] = 56\n",
    "    key_value[1] = 2\n",
    "    key_value[5] = 12\n",
    "    key_value[4] = 24\n",
    "    key_value[6] = 18\n",
    "    key_value[3] = 323\n",
    "\n",
    "    print(\"Task 1:-\\n\")\n",
    "\n",
    "    print(\"key_value\", key_value)\n",
    "\n",
    "    # iterkeys() returns an iterator over the\n",
    "    # dictionary’s keys.\n",
    "    for i in sorted(key_value.keys()):\n",
    "        print(i, end=\" \")\n",
    "\n",
    "\n",
    "def main():\n",
    "    # function calling\n",
    "    dictionary()\n",
    "\n",
    "\n",
    "# Main function calling\n",
    "if __name__ == \"__main__\":\n",
    "    main()\n"
   ]
  }
 ],
 "metadata": {
  "kernelspec": {
   "display_name": "Python 3",
   "language": "python",
   "name": "python3"
  },
  "language_info": {
   "codemirror_mode": {
    "name": "ipython",
    "version": 3
   },
   "file_extension": ".py",
   "mimetype": "text/x-python",
   "name": "python",
   "nbconvert_exporter": "python",
   "pygments_lexer": "ipython3",
   "version": "3.9.6"
  }
 },
 "nbformat": 4,
 "nbformat_minor": 2
}
